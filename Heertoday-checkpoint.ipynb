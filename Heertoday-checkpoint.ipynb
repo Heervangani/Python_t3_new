{
 "cells": [
  {
   "cell_type": "code",
   "execution_count": 1,
   "metadata": {},
   "outputs": [
    {
     "data": {
      "text/plain": [
       "'D:\\\\Heer_T3'"
      ]
     },
     "execution_count": 1,
     "metadata": {},
     "output_type": "execute_result"
    }
   ],
   "source": [
    "pwd"
   ]
  },
  {
   "cell_type": "code",
   "execution_count": 3,
   "metadata": {},
   "outputs": [
    {
     "name": "stdout",
     "output_type": "stream",
     "text": [
      "<_io.TextIOWrapper name='Heer.txt' mode='r' encoding='utf-8'>\n"
     ]
    }
   ],
   "source": [
    "file_object=open('Heer.txt','r',encoding='utf-8')\n",
    "print(file_object)"
   ]
  },
  {
   "cell_type": "code",
   "execution_count": 10,
   "metadata": {},
   "outputs": [
    {
     "name": "stdout",
     "output_type": "stream",
     "text": [
      "<_io.TextIOWrapper name='D:\\\\B7\\\\b7.txt' mode='r' encoding='cp1252'>\n"
     ]
    }
   ],
   "source": [
    "f=open(\"D:\\\\B7\\\\b7.txt\",'r')\n",
    "print(f)\n",
    "f.close()"
   ]
  },
  {
   "cell_type": "code",
   "execution_count": 14,
   "metadata": {},
   "outputs": [
    {
     "ename": "UnsupportedOperation",
     "evalue": "not writable",
     "output_type": "error",
     "traceback": [
      "\u001b[1;31m---------------------------------------------------------------------------\u001b[0m",
      "\u001b[1;31mUnsupportedOperation\u001b[0m                      Traceback (most recent call last)",
      "\u001b[1;32m<ipython-input-14-c31e8a36fcab>\u001b[0m in \u001b[0;36m<module>\u001b[1;34m\u001b[0m\n\u001b[0;32m      1\u001b[0m \u001b[0mf\u001b[0m\u001b[1;33m=\u001b[0m\u001b[0mopen\u001b[0m\u001b[1;33m(\u001b[0m\u001b[1;34m'Heer.txt'\u001b[0m\u001b[1;33m,\u001b[0m\u001b[1;34m'r'\u001b[0m\u001b[1;33m)\u001b[0m\u001b[1;33m\u001b[0m\u001b[1;33m\u001b[0m\u001b[0m\n\u001b[1;32m----> 2\u001b[1;33m \u001b[0mf\u001b[0m\u001b[1;33m.\u001b[0m\u001b[0mwrite\u001b[0m\u001b[1;33m(\u001b[0m\u001b[1;34m'hello'\u001b[0m\u001b[1;33m)\u001b[0m\u001b[1;33m\u001b[0m\u001b[1;33m\u001b[0m\u001b[0m\n\u001b[0m\u001b[0;32m      3\u001b[0m \u001b[0mx\u001b[0m\u001b[1;33m=\u001b[0m\u001b[0mf\u001b[0m\u001b[1;33m.\u001b[0m\u001b[0mread\u001b[0m\u001b[1;33m(\u001b[0m\u001b[1;33m)\u001b[0m\u001b[1;33m\u001b[0m\u001b[1;33m\u001b[0m\u001b[0m\n\u001b[0;32m      4\u001b[0m \u001b[0mprint\u001b[0m\u001b[1;33m(\u001b[0m\u001b[0mx\u001b[0m\u001b[1;33m)\u001b[0m\u001b[1;33m\u001b[0m\u001b[1;33m\u001b[0m\u001b[0m\n\u001b[0;32m      5\u001b[0m \u001b[0my\u001b[0m\u001b[1;33m=\u001b[0m\u001b[0mf\u001b[0m\u001b[1;33m.\u001b[0m\u001b[0mread\u001b[0m\u001b[1;33m(\u001b[0m\u001b[1;33m)\u001b[0m\u001b[1;33m\u001b[0m\u001b[1;33m\u001b[0m\u001b[0m\n",
      "\u001b[1;31mUnsupportedOperation\u001b[0m: not writable"
     ]
    }
   ],
   "source": [
    "f=open('Heer.txt','r')\n",
    "# f.write('hello')\n",
    "x=f.read()\n",
    "print(x)\n",
    "y=f.read()\n",
    "print('>',y)\n",
    "f.close()"
   ]
  },
  {
   "cell_type": "code",
   "execution_count": 17,
   "metadata": {},
   "outputs": [
    {
     "name": "stdout",
     "output_type": "stream",
     "text": [
      "\n"
     ]
    }
   ],
   "source": [
    "f=open('Heer.txt','r+')\n",
    "x=f.read()\n",
    "f.write('123')\n",
    "y=f.read()\n",
    "print(y)\n",
    "f.close()"
   ]
  },
  {
   "cell_type": "code",
   "execution_count": 20,
   "metadata": {
    "scrolled": true
   },
   "outputs": [
    {
     "name": "stdout",
     "output_type": "stream",
     "text": [
      "myself Heer vangani\n",
      "Batch-B6\n",
      "rollNo. 209\n",
      "123123123123123\n",
      "\n"
     ]
    }
   ],
   "source": [
    "f=open('Heer.txt','r+')\n",
    "x=f.read()\n",
    "print(x)\n",
    "f.write('hi')\n",
    "y=f.read()\n",
    "print(y)\n",
    "f.close()"
   ]
  },
  {
   "cell_type": "code",
   "execution_count": 24,
   "metadata": {},
   "outputs": [
    {
     "data": {
      "text/plain": [
       "3"
      ]
     },
     "execution_count": 24,
     "metadata": {},
     "output_type": "execute_result"
    }
   ],
   "source": [
    "f=open('Heer.txt','r+')\n",
    "f.write('v10')\n"
   ]
  },
  {
   "cell_type": "code",
   "execution_count": 26,
   "metadata": {},
   "outputs": [
    {
     "ename": "FileNotFoundError",
     "evalue": "[Errno 2] No such file or directory: 'pqr.txt'",
     "output_type": "error",
     "traceback": [
      "\u001b[1;31m---------------------------------------------------------------------------\u001b[0m",
      "\u001b[1;31mFileNotFoundError\u001b[0m                         Traceback (most recent call last)",
      "\u001b[1;32m<ipython-input-26-0b834760b26d>\u001b[0m in \u001b[0;36m<module>\u001b[1;34m\u001b[0m\n\u001b[1;32m----> 1\u001b[1;33m \u001b[0mf\u001b[0m\u001b[1;33m=\u001b[0m\u001b[0mopen\u001b[0m\u001b[1;33m(\u001b[0m\u001b[1;34m'pqr.txt'\u001b[0m\u001b[1;33m,\u001b[0m\u001b[1;34m'r+'\u001b[0m\u001b[1;33m)\u001b[0m\u001b[1;33m\u001b[0m\u001b[1;33m\u001b[0m\u001b[0m\n\u001b[0m\u001b[0;32m      2\u001b[0m \u001b[0mprint\u001b[0m\u001b[1;33m(\u001b[0m\u001b[0mf\u001b[0m\u001b[1;33m.\u001b[0m\u001b[0mread\u001b[0m\u001b[1;33m(\u001b[0m\u001b[1;33m)\u001b[0m\u001b[1;33m)\u001b[0m\u001b[1;33m\u001b[0m\u001b[1;33m\u001b[0m\u001b[0m\n\u001b[0;32m      3\u001b[0m \u001b[0mf\u001b[0m\u001b[1;33m.\u001b[0m\u001b[0mclose\u001b[0m\u001b[1;33m(\u001b[0m\u001b[1;33m)\u001b[0m\u001b[1;33m\u001b[0m\u001b[1;33m\u001b[0m\u001b[0m\n",
      "\u001b[1;31mFileNotFoundError\u001b[0m: [Errno 2] No such file or directory: 'pqr.txt'"
     ]
    }
   ],
   "source": [
    "f=open('pqr.txt','r+')\n",
    "print(f.read())\n",
    "f.close()"
   ]
  },
  {
   "cell_type": "code",
   "execution_count": 28,
   "metadata": {},
   "outputs": [],
   "source": [
    "f=open('Heer.txt','w')\n",
    "f.write('B6 is best')\n",
    "# print(f.read())\n",
    "f.close()"
   ]
  },
  {
   "cell_type": "code",
   "execution_count": 30,
   "metadata": {},
   "outputs": [],
   "source": [
    "f=open('fdef.txt','w')\n",
    "f.write('B6 is best')\n",
    "# print(f.read())\n",
    "f.close()"
   ]
  },
  {
   "cell_type": "code",
   "execution_count": 31,
   "metadata": {},
   "outputs": [
    {
     "name": "stdout",
     "output_type": "stream",
     "text": [
      "\n"
     ]
    }
   ],
   "source": [
    "f=open('fdef.txt','w+')\n",
    "f.write('B6 is best')\n",
    "print(f.read())\n",
    "f.close()"
   ]
  },
  {
   "cell_type": "code",
   "execution_count": 32,
   "metadata": {},
   "outputs": [],
   "source": [
    "f=open('fdef.txt','a')\n",
    "f.write('B6 is best')\n",
    "# print(f.read())\n",
    "f.close()"
   ]
  },
  {
   "cell_type": "code",
   "execution_count": 33,
   "metadata": {},
   "outputs": [
    {
     "name": "stdout",
     "output_type": "stream",
     "text": [
      "\n"
     ]
    }
   ],
   "source": [
    "f=open('aaaa.txt','a+')\n",
    "print(f.read())\n",
    "f.write('B6 is best')\n",
    "\n",
    "f.close()"
   ]
  },
  {
   "cell_type": "code",
   "execution_count": 34,
   "metadata": {},
   "outputs": [
    {
     "name": "stdout",
     "output_type": "stream",
     "text": [
      "\n"
     ]
    }
   ],
   "source": [
    "f=open('aaaa.txt','a+')\n",
    "print(f.read())\n",
    "f.write('B6 is bestttttttttttt')\n",
    "\n",
    "f.close()"
   ]
  },
  {
   "cell_type": "code",
   "execution_count": 37,
   "metadata": {},
   "outputs": [
    {
     "name": "stdout",
     "output_type": "stream",
     "text": [
      "Heer.txt\n",
      "a+\n",
      "False\n",
      "True\n",
      "True\n"
     ]
    }
   ],
   "source": [
    "f=open('Heer.txt','a+')\n",
    "print(f.name)\n",
    "print(f.mode)\n",
    "print(f.closed)\n",
    "print(f.readable())\n",
    "print(f.writable())\n",
    "f.close()\n"
   ]
  },
  {
   "cell_type": "code",
   "execution_count": 39,
   "metadata": {},
   "outputs": [],
   "source": [
    "f=open('ababa.txt','w')\n",
    "f.write('1234 789')\n",
    "f.writelines(['A\\n','B\\n','C\\n'])\n",
    "f.close()"
   ]
  },
  {
   "cell_type": "code",
   "execution_count": 45,
   "metadata": {},
   "outputs": [
    {
     "name": "stdout",
     "output_type": "stream",
     "text": [
      "HI\n",
      "\n",
      "hel\n",
      "lo\n",
      "welc\n",
      "ome\n",
      "\n"
     ]
    }
   ],
   "source": [
    "f=open('ababa.txt','r')\n",
    "# f.writelines(['HI\\n','hello\\n','welcome\\n'])\n",
    "print(f.read(2))\n",
    "print(f.read(4))\n",
    "print(f.read(7))\n",
    "print(f.read())\n",
    "\n",
    "f.close()"
   ]
  },
  {
   "cell_type": "code",
   "execution_count": 53,
   "metadata": {},
   "outputs": [
    {
     "name": "stdout",
     "output_type": "stream",
     "text": [
      "HI\n",
      "\n",
      "hello\n",
      "\n",
      "we\n",
      "['lcome\\n']\n"
     ]
    }
   ],
   "source": [
    "# at \\n it will cut off if more char given \n",
    "f=open('ababa.txt','r')\n",
    "print(f.readline())\n",
    "print(f.readline(9))\n",
    "print(f.readline(2))\n",
    "# print(f.readlines()) ans in list\n",
    "f.close()\n"
   ]
  },
  {
   "cell_type": "code",
   "execution_count": 56,
   "metadata": {},
   "outputs": [
    {
     "name": "stdout",
     "output_type": "stream",
     "text": [
      "HI\n",
      "\n",
      "h\n",
      "ello\n",
      "\n"
     ]
    }
   ],
   "source": [
    "# not in syllabus\n",
    "f=open('ababa.txt','r')\n",
    "print(f.readline(4))\n",
    "print(f.readline(1))\n",
    "print(f.readline())\n",
    "# print(f.readlines()) ans in list\n",
    "f.close()\n",
    "# "
   ]
  },
  {
   "cell_type": "code",
   "execution_count": 58,
   "metadata": {},
   "outputs": [
    {
     "name": "stdout",
     "output_type": "stream",
     "text": [
      "HI\n",
      "\n",
      "hello\n",
      "\n",
      "welcome\n",
      "\n"
     ]
    }
   ],
   "source": [
    "f=open('ababa.txt','r')\n",
    "for i in f:\n",
    "    print(i)"
   ]
  },
  {
   "cell_type": "code",
   "execution_count": 60,
   "metadata": {},
   "outputs": [
    {
     "name": "stdout",
     "output_type": "stream",
     "text": [
      "0 > HI\n",
      "\n",
      "1 > hello\n",
      "\n",
      "2 > welcome\n",
      "\n"
     ]
    }
   ],
   "source": [
    "f=open('ababa.txt','r')\n",
    "for i,j in enumerate(f):\n",
    "    print(i,'>',j)"
   ]
  },
  {
   "cell_type": "code",
   "execution_count": 61,
   "metadata": {},
   "outputs": [
    {
     "name": "stdout",
     "output_type": "stream",
     "text": [
      "1 > HI\n",
      "\n",
      "2 > hello\n",
      "\n",
      "3 > welcome\n",
      "\n"
     ]
    }
   ],
   "source": [
    "f=open('ababa.txt','r')\n",
    "for i,j in enumerate(f,start=1):\n",
    "    print(i,'>',j)"
   ]
  },
  {
   "cell_type": "code",
   "execution_count": 62,
   "metadata": {
    "scrolled": true
   },
   "outputs": [
    {
     "name": "stdout",
     "output_type": "stream",
     "text": [
      "H\n",
      "I\n",
      "\n",
      "\n",
      "h\n",
      "e\n",
      "l\n",
      "l\n",
      "o\n",
      "\n",
      "\n",
      "w\n",
      "e\n",
      "l\n",
      "c\n",
      "o\n",
      "m\n",
      "e\n",
      "\n",
      "\n"
     ]
    }
   ],
   "source": [
    "f=open('ababa.txt','r')\n",
    "r=f.read()\n",
    "for i in r:\n",
    "    print(i)"
   ]
  },
  {
   "cell_type": "code",
   "execution_count": 65,
   "metadata": {},
   "outputs": [
    {
     "name": "stdout",
     "output_type": "stream",
     "text": [
      "HI\n",
      "hello\n",
      "welcome\n"
     ]
    }
   ],
   "source": [
    "# word by word\n",
    "f=open('ababa.txt','r')\n",
    "for i in f:\n",
    "    for j in i.split():\n",
    "     print(j)"
   ]
  },
  {
   "cell_type": "code",
   "execution_count": 15,
   "metadata": {},
   "outputs": [
    {
     "name": "stdout",
     "output_type": "stream",
     "text": [
      "36\n",
      "38\n",
      "7\n",
      "estB6 is bestHiHiHiHiHiHiHiHiHi\n",
      "7\n"
     ]
    }
   ],
   "source": [
    "#day2\n",
    "f=open(\"fdef.txt\",\"a+\")\n",
    "print(f.tell())\n",
    "f.write(\"Hi\")\n",
    "print(f.tell())\n",
    "f.seek(7)\n",
    "print(f.tell())\n",
    "print(f.read())\n",
    "f.seek(7,0)#seek(offset,where-0-start,1-current,2-end)\n",
    "f.seek(0,1)#exception\n",
    "f.seek(0,2)#exception\n",
    "print(f.tell())"
   ]
  },
  {
   "cell_type": "code",
   "execution_count": 23,
   "metadata": {},
   "outputs": [
    {
     "name": "stdout",
     "output_type": "stream",
     "text": [
      "HI\n",
      "hello\n",
      "welcome\n",
      "\n",
      "True\n"
     ]
    }
   ],
   "source": [
    "with open(\"ababa.txt\",\"r\")as f:\n",
    "    print(f.read())\n",
    "print(f.closed)"
   ]
  },
  {
   "cell_type": "code",
   "execution_count": 27,
   "metadata": {},
   "outputs": [
    {
     "name": "stdout",
     "output_type": "stream",
     "text": [
      "B6 is best in python\n",
      "\n",
      "B6\n",
      "is\n",
      "best\n",
      "in\n",
      "python\n",
      "B6 is best in de\n",
      "\n",
      "B6\n",
      "is\n",
      "best\n",
      "in\n",
      "de\n",
      "B1 is best in python\n",
      "\n",
      "B1\n",
      "is\n",
      "best\n",
      "in\n",
      "python\n",
      "b3 is good in python\n",
      "b3\n",
      "is\n",
      "good\n",
      "in\n",
      "python\n"
     ]
    }
   ],
   "source": [
    "f=open(\"ex.txt\")\n",
    "for line in f:\n",
    "    print(line)\n",
    "#     for word in line.split():\n",
    "#         print(word)"
   ]
  },
  {
   "cell_type": "code",
   "execution_count": 32,
   "metadata": {},
   "outputs": [
    {
     "name": "stdout",
     "output_type": "stream",
     "text": [
      "['B6', 'is', 'best', 'in', 'python']\n",
      "B6\n",
      "is\n",
      "best\n",
      "in\n",
      "python\n",
      "['B6', 'is', 'best', 'in', 'de']\n",
      "B6\n",
      "is\n",
      "best\n",
      "in\n",
      "de\n",
      "['B1', 'is', 'best', 'in', 'python']\n",
      "B1\n",
      "is\n",
      "best\n",
      "in\n",
      "python\n",
      "['b3', 'is', 'good', 'in', 'python']\n",
      "b3\n",
      "is\n",
      "good\n",
      "in\n",
      "python\n",
      "0\n"
     ]
    }
   ],
   "source": [
    "\n",
    " \n",
    "f=open(\"ex.txt\")\n",
    "c=0\n",
    "for line in f:\n",
    "    print(line)\n",
    "    c+=1\n",
    "    for word in line.split():\n",
    "        print(word)\n",
    "        \n",
    "print(len(f.read().split()))\n",
    "# print(len(f.readlines()))\n",
    "\n",
    "    "
   ]
  },
  {
   "cell_type": "code",
   "execution_count": 39,
   "metadata": {},
   "outputs": [
    {
     "name": "stdout",
     "output_type": "stream",
     "text": [
      "['B6', 'is', 'best', 'in', 'python']\n",
      "B6\n",
      "is\n",
      "best\n",
      "in\n",
      "python\n",
      "['B6', 'is', 'best', 'in', 'de']\n",
      "B6\n",
      "is\n",
      "best\n",
      "in\n",
      "de\n",
      "['B1', 'is', 'best', 'in', 'python']\n",
      "B1\n",
      "is\n",
      "best\n",
      "in\n",
      "python\n",
      "['b3', 'is', 'good', 'in', 'python']\n",
      "b3\n",
      "is\n",
      "good\n",
      "in\n",
      "python\n",
      "4\n",
      "20\n",
      "0\n",
      "0\n"
     ]
    }
   ],
   "source": [
    "\n",
    " #wordcount\n",
    "f=open(\"ex.txt\")\n",
    "linecount,wordcount=0,0\n",
    "for line in f:\n",
    "    print(line.split())\n",
    "    linecount+=1\n",
    "    for word in line.split():\n",
    "        print(word)\n",
    "        wordcount+=1\n",
    "\n",
    "print(linecount)\n",
    "print(wordcount)\n",
    "# print(len(f.read().split()))\n",
    "# print(len(f.readlines()))\n",
    "\n",
    "    "
   ]
  },
  {
   "cell_type": "code",
   "execution_count": 41,
   "metadata": {},
   "outputs": [
    {
     "name": "stdout",
     "output_type": "stream",
     "text": [
      "4\n"
     ]
    }
   ],
   "source": [
    "f=open(\"ex.txt\")\n",
    "#print(len(f.read().split()))\n",
    "print(len(f.readlines()))#pointer at last\n"
   ]
  },
  {
   "cell_type": "code",
   "execution_count": 54,
   "metadata": {
    "scrolled": true
   },
   "outputs": [
    {
     "name": "stdout",
     "output_type": "stream",
     "text": [
      "line 2\n",
      "col 7\n"
     ]
    }
   ],
   "source": [
    "# to find diferences between 2 lines between 2 files\n",
    "f1=open(\"ex.txt\")\n",
    "f2=open(\"ex1.txt\")\n",
    "L1=f1.readlines()\n",
    "L2=f2.readlines()\n",
    "for i in range(len(L1)):\n",
    "    if L1[i]!=L2[i]:\n",
    "        for j in range(len(L1[i])):\n",
    "            if L1[i][j]!=L2[i][j]:\n",
    "                print('line',i+1)\n",
    "                print('col',j+1)\n",
    "            \n",
    "       \n",
    "        \n",
    "            \n",
    "    \n"
   ]
  },
  {
   "cell_type": "code",
   "execution_count": 64,
   "metadata": {},
   "outputs": [],
   "source": [
    "#my code withiut nextline\n",
    "f=open(\"ex3.txt\")\n",
    "L=f.readlines()\n",
    "f1=open(\"ex4.txt\",\"w\")\n",
    "for i in range(len(L)):\n",
    "     for j in range(len(L[i])):\n",
    "           \n",
    "            if L[i][j]==\"#\":\n",
    "                break\n",
    "                \n",
    "            \n",
    "            \n",
    "            f1.write(L[i][j])\n",
    "f.close()\n",
    "f1.close()"
   ]
  },
  {
   "cell_type": "code",
   "execution_count": 71,
   "metadata": {},
   "outputs": [],
   "source": [
    "#sircode\n",
    "f1=open(\"ex3.txt\")\n",
    "f2=open(\"ex5.txt\",\"w\")\n",
    "for line in f1:\n",
    "    if '#' not in line:\n",
    "        f2.write(line)\n",
    "    else:\n",
    "        if line.find('#')==0:\n",
    "            continue\n",
    "        else:\n",
    "            a=line.find('#')\n",
    "            f2.write(line[0:a]+\"\\n\")\n",
    "f1.close()\n",
    "f2.close()\n",
    "        \n"
   ]
  },
  {
   "cell_type": "code",
   "execution_count": 73,
   "metadata": {},
   "outputs": [
    {
     "name": "stdout",
     "output_type": "stream",
     "text": [
      "python\n",
      "Best\n",
      "best\n",
      "b3\n",
      "is\n"
     ]
    }
   ],
   "source": [
    "#5 longest word\n",
    "f=open(\"ex5.txt\")\n",
    "L=f.read().split()\n",
    "L=list(set(L))#use set so doesnt repeat\n",
    "L.sort(key=lambda x:len(x),reverse=True)\n",
    "for i in range(5):\n",
    "    print(L[i])\n",
    "\n",
    "            \n",
    "                \n"
   ]
  },
  {
   "cell_type": "code",
   "execution_count": 74,
   "metadata": {},
   "outputs": [
    {
     "name": "stdout",
     "output_type": "stream",
     "text": [
      "python\n",
      "Best\n",
      "best\n",
      "b3\n",
      "is\n"
     ]
    }
   ],
   "source": [
    "#5 longest word\n",
    "f=open(\"ex5.txt\")\n",
    "L=[]\n",
    "for line in f:\n",
    "    for word in line.split():\n",
    "        L.append(word)\n",
    "L=list(set(L))#use set so doesnt repeat\n",
    "L.sort(key=lambda x:len(x),reverse=True)\n",
    "for i in range(5):\n",
    "    print(L[i])\n",
    "\n",
    "            \n",
    "                \n"
   ]
  },
  {
   "cell_type": "code",
   "execution_count": 77,
   "metadata": {},
   "outputs": [],
   "source": [
    "#80 char in one line only\n",
    "f=open(\"ex1.txt\",encoding='UTF-8')\n",
    "L=f.read().split(' ')\n",
    "f1=open(\"file2.txt\",\"w\")\n",
    "c=0\n",
    "for i in L:\n",
    "    if(c+len(i)<=80):\n",
    "        f1.write(i+' ')\n",
    "    else:\n",
    "        f1.write('\\n'+i+'')\n",
    "        c=0\n",
    "    c+=len(i)+1\n",
    "f.close()\n",
    "f1.close()\n",
    "    \n",
    "\n",
    "\n",
    "\n"
   ]
  },
  {
   "cell_type": "code",
   "execution_count": null,
   "metadata": {},
   "outputs": [],
   "source": []
  }
 ],
 "metadata": {
  "kernelspec": {
   "display_name": "Python 3",
   "language": "python",
   "name": "python3"
  },
  "language_info": {
   "codemirror_mode": {
    "name": "ipython",
    "version": 3
   },
   "file_extension": ".py",
   "mimetype": "text/x-python",
   "name": "python",
   "nbconvert_exporter": "python",
   "pygments_lexer": "ipython3",
   "version": "3.8.5"
  }
 },
 "nbformat": 4,
 "nbformat_minor": 4
}
