{
 "cells": [
  {
   "cell_type": "code",
   "execution_count": 10,
   "metadata": {},
   "outputs": [
    {
     "name": "stdout",
     "output_type": "stream",
     "text": [
      "['caps', 'car', 'cart', 'zartoon']\n",
      "-1\n",
      "\n"
     ]
    }
   ],
   "source": [
    "l=['car','cart','aartoon','caps']\n",
    "l.sort()\n",
    "print(l)\n",
    "c=0\n",
    "for i in range(len(l[0])):\n",
    "    if(l[0][i]==l[-1][i]):\n",
    "        c+=1\n",
    "    else:\n",
    "        print(-1)\n",
    "        break\n",
    "print(l[0][:c])"
   ]
  },
  {
   "cell_type": "code",
   "execution_count": 13,
   "metadata": {},
   "outputs": [
    {
     "name": "stdout",
     "output_type": "stream",
     "text": [
      "valid\n"
     ]
    }
   ],
   "source": [
    "s=\"{}{{{}}}()\"\n",
    "f0=1\n",
    "f1=1\n",
    "if(len(s)%2==0):\n",
    "    for i in range(len(s)//2):\n",
    "        if (s[i]=='[' and s[len(s)-1-i]==']'):\n",
    "            pass\n",
    "        elif (s[i]=='{' and s[len(s)-1-i]=='}'):\n",
    "            pass\n",
    "        elif (s[i]=='(' and s[len(s)-1-i]==')'):\n",
    "            pass\n",
    "        else:\n",
    "            f0=0\n",
    "    \n",
    "    \n",
    "    for i in range(0,len(s),2):\n",
    "        if (s[i]=='[' and s[i+1]==']'):\n",
    "            pass\n",
    "        elif (s[i]=='{' and s[i+1]=='}'):\n",
    "            pass\n",
    "        elif (s[i]=='(' and s[i+1]==')'):\n",
    "            pass\n",
    "        else:\n",
    "            f1=0\n",
    "else:\n",
    "    print(\"invalid\")\n",
    "\n",
    "if(f0 or f1):\n",
    "    print(\"valid\")\n",
    "else:\n",
    "    print(\"invalid\")"
   ]
  },
  {
   "cell_type": "code",
   "execution_count": null,
   "metadata": {},
   "outputs": [],
   "source": []
  }
 ],
 "metadata": {
  "kernelspec": {
   "display_name": "Python 3",
   "language": "python",
   "name": "python3"
  },
  "language_info": {
   "codemirror_mode": {
    "name": "ipython",
    "version": 3
   },
   "file_extension": ".py",
   "mimetype": "text/x-python",
   "name": "python",
   "nbconvert_exporter": "python",
   "pygments_lexer": "ipython3",
   "version": "3.8.5"
  }
 },
 "nbformat": 4,
 "nbformat_minor": 4
}
